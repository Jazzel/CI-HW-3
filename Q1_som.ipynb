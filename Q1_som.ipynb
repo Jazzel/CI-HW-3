{
 "cells": [
  {
   "cell_type": "code",
   "execution_count": 128,
   "metadata": {},
   "outputs": [],
   "source": [
    "import numpy as np\n",
    "import matplotlib.pyplot as plt\n",
    "import pandas as pd\n",
    "import math"
   ]
  },
  {
   "cell_type": "code",
   "execution_count": 236,
   "metadata": {},
   "outputs": [],
   "source": [
    "grid = 10\n",
    "grid_size = (grid, grid)\n",
    "sub_grid_size = grid//2\n",
    "nodes = grid * grid\n",
    "\n",
    "weights = np.random.rand(nodes, 3)"
   ]
  },
  {
   "cell_type": "code",
   "execution_count": 232,
   "metadata": {},
   "outputs": [
    {
     "data": {
      "image/png": "[encoded data removed]",
      "text/plain": [
       "<Figure size 640x480 with 1 Axes>"
      ]
     },
     "metadata": {},
     "output_type": "display_data"
    }
   ],
   "source": [
    "# Creating grid of 10 x 10 color patches\n",
    "fig, ax = plt.subplots()\n",
    "for i in range(10):\n",
    "    for j in range(10):\n",
    "        ax.add_patch(plt.Rectangle((i, j), 1, 1, color=weights[i*10+j]))\n",
    "\n",
    "plt.axis('scaled')\n",
    "plt.title('Initial iteration of SOM')\n",
    "plt.show()"
   ]
  },
  {
   "cell_type": "code",
   "execution_count": 233,
   "metadata": {},
   "outputs": [
    {
     "data": {
      "text/html": [
       "<div>\n",
       "<style scoped>\n",
       "    .dataframe tbody tr th:only-of-type {\n",
       "        vertical-align: middle;\n",
       "    }\n",
       "\n",
       "    .dataframe tbody tr th {\n",
       "        vertical-align: top;\n",
       "    }\n",
       "\n",
       "    .dataframe thead th {\n",
       "        text-align: right;\n",
       "    }\n",
       "</style>\n",
       "<table border=\"1\" class=\"dataframe\">\n",
       "  <thead>\n",
       "    <tr style=\"text-align: right;\">\n",
       "      <th></th>\n",
       "      <th>Lat</th>\n",
       "      <th>Long_</th>\n",
       "      <th>Confirmed</th>\n",
       "      <th>Deaths</th>\n",
       "      <th>Recovered</th>\n",
       "    </tr>\n",
       "  </thead>\n",
       "  <tbody>\n",
       "    <tr>\n",
       "      <th>count</th>\n",
       "      <td>3893.000000</td>\n",
       "      <td>3893.000000</td>\n",
       "      <td>3980.000000</td>\n",
       "      <td>3980.000000</td>\n",
       "      <td>3980.000000</td>\n",
       "    </tr>\n",
       "    <tr>\n",
       "      <th>mean</th>\n",
       "      <td>36.005760</td>\n",
       "      <td>-72.065449</td>\n",
       "      <td>0.008065</td>\n",
       "      <td>0.007115</td>\n",
       "      <td>0.005626</td>\n",
       "    </tr>\n",
       "    <tr>\n",
       "      <th>std</th>\n",
       "      <td>12.995066</td>\n",
       "      <td>53.528288</td>\n",
       "      <td>0.040337</td>\n",
       "      <td>0.040950</td>\n",
       "      <td>0.038929</td>\n",
       "    </tr>\n",
       "    <tr>\n",
       "      <th>min</th>\n",
       "      <td>-52.368000</td>\n",
       "      <td>-174.159600</td>\n",
       "      <td>0.000000</td>\n",
       "      <td>0.000000</td>\n",
       "      <td>0.000000</td>\n",
       "    </tr>\n",
       "    <tr>\n",
       "      <th>25%</th>\n",
       "      <td>33.272157</td>\n",
       "      <td>-96.616339</td>\n",
       "      <td>0.000268</td>\n",
       "      <td>0.000154</td>\n",
       "      <td>0.000000</td>\n",
       "    </tr>\n",
       "    <tr>\n",
       "      <th>50%</th>\n",
       "      <td>37.954743</td>\n",
       "      <td>-86.854759</td>\n",
       "      <td>0.000753</td>\n",
       "      <td>0.000492</td>\n",
       "      <td>0.000000</td>\n",
       "    </tr>\n",
       "    <tr>\n",
       "      <th>75%</th>\n",
       "      <td>42.227692</td>\n",
       "      <td>-77.494647</td>\n",
       "      <td>0.002966</td>\n",
       "      <td>0.001782</td>\n",
       "      <td>0.000000</td>\n",
       "    </tr>\n",
       "    <tr>\n",
       "      <th>max</th>\n",
       "      <td>71.706900</td>\n",
       "      <td>178.065000</td>\n",
       "      <td>1.000000</td>\n",
       "      <td>1.000000</td>\n",
       "      <td>1.000000</td>\n",
       "    </tr>\n",
       "  </tbody>\n",
       "</table>\n",
       "</div>"
      ],
      "text/plain": [
       "               Lat        Long_    Confirmed       Deaths    Recovered\n",
       "count  3893.000000  3893.000000  3980.000000  3980.000000  3980.000000\n",
       "mean     36.005760   -72.065449     0.008065     0.007115     0.005626\n",
       "std      12.995066    53.528288     0.040337     0.040950     0.038929\n",
       "min     -52.368000  -174.159600     0.000000     0.000000     0.000000\n",
       "25%      33.272157   -96.616339     0.000268     0.000154     0.000000\n",
       "50%      37.954743   -86.854759     0.000753     0.000492     0.000000\n",
       "75%      42.227692   -77.494647     0.002966     0.001782     0.000000\n",
       "max      71.706900   178.065000     1.000000     1.000000     1.000000"
      ]
     },
     "execution_count": 233,
     "metadata": {},
     "output_type": "execute_result"
    }
   ],
   "source": [
    "# Reading data from csv\n",
    "data = pd.read_csv('Q1_countrydata.csv')\n",
    "\n",
    "data = data.drop(['Province_State'], axis=1)\n",
    "data = data.drop(['Country_Region'], axis=1)\n",
    "data = data.drop(['Last_Update'], axis=1)\n",
    "\n",
    "# print(data[data.isna().any(axis=1)])\n",
    "\n",
    "# Normalize Confirmed, Deaths and Recovered columns with max\n",
    "data['Confirmed'] = data['Confirmed'] / data['Confirmed'].max()\n",
    "data['Deaths'] = data['Deaths'] / data['Deaths'].max()\n",
    "data['Recovered'] = data['Recovered'] / data['Recovered'].max()\n",
    "\n",
    "data.head()\n",
    "data.describe()\n"
   ]
  },
  {
   "cell_type": "code",
   "execution_count": 277,
   "metadata": {},
   "outputs": [
    {
     "name": "stdout",
     "output_type": "stream",
     "text": [
      "SOM Training Started\n",
      "SOM Training Completed\n"
     ]
    }
   ],
   "source": [
    "# Training SOM\n",
    "\n",
    "iterations = 1000\n",
    "learning_decay_rate = 0.2\n",
    "radius_decay_rate = 5\n",
    "learning_decay = learning_decay_rate\n",
    "radius_decay = radius_decay_rate\n",
    "\n",
    "print(\"SOM Training Started\")\n",
    "for i in range(iterations):\n",
    "    random_row = data.sample()\n",
    "\n",
    "    index = random_row.index.values[0]\n",
    "    random_row = random_row.to_numpy()\n",
    "    lat, long, confirmed, deaths, recovered = random_row[0].tolist()\n",
    "\n",
    "    diff_array = [pow((weight[0] - confirmed)**2 + (weight[1] - deaths)**2 + (weight[2] - recovered)**2, 1/2) for weight in weights]\n",
    "    bmu = min(diff_array)\n",
    "    index_bmu = np.unravel_index(diff_array.index(bmu), (grid, grid))\n",
    "\n",
    "    for index in range(nodes):\n",
    "        twod_index = np.unravel_index(index, (grid, grid))\n",
    "        distance_to_bmu = pow((twod_index[0] - index_bmu[0])**2 + (twod_index[1] - index_bmu[1])**2, 1/2)\n",
    "        if distance_to_bmu < radius_decay:\n",
    "            theta = math.exp(-((distance_to_bmu**2)/(2*(radius_decay**2))))\n",
    "            weights[index] = weights[index] + learning_decay * theta * ([confirmed, deaths, recovered] - weights[index])\n",
    "\n",
    "    learning_decay = learning_decay_rate * math.exp((-i/iterations))\n",
    "    radius_decay = radius_decay_rate * math.exp((-i/iterations))\n",
    "\n",
    "\n",
    "print(\"SOM Training Completed\")"
   ]
  },
  {
   "cell_type": "code",
   "execution_count": 278,
   "metadata": {},
   "outputs": [
    {
     "data": {
      "image/png": "[encoded data removed]",
      "text/plain": [
       "<Figure size 640x480 with 1 Axes>"
      ]
     },
     "metadata": {},
     "output_type": "display_data"
    }
   ],
   "source": [
    "# Creating grid of 10 x 10 color patches\n",
    "fig, ax = plt.subplots()\n",
    "for i in range(10):\n",
    "    for j in range(10):\n",
    "        ax.add_patch(plt.Rectangle((i, j), 1, 1, color=weights[i*10+j]))\n",
    "\n",
    "plt.axis('scaled')\n",
    "plt.title('Final iteration of SOM')\n",
    "plt.show()"
   ]
  }
 ],
 "metadata": {
  "kernelspec": {
   "display_name": "env",
   "language": "python",
   "name": "python3"
  },
  "language_info": {
   "codemirror_mode": {
    "name": "ipython",
    "version": 3
   },
   "file_extension": ".py",
   "mimetype": "text/x-python",
   "name": "python",
   "nbconvert_exporter": "python",
   "pygments_lexer": "ipython3",
   "version": "3.12.1"
  }
 },
 "nbformat": 4,
 "nbformat_minor": 2
}
